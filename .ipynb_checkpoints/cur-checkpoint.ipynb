{
 "cells": [
  {
   "cell_type": "markdown",
   "metadata": {},
   "source": [
    "# If you have cur file(s) in prepared_folder_address"
   ]
  },
  {
   "cell_type": "markdown",
   "metadata": {},
   "source": [
    "## After AGC control"
   ]
  },
  {
   "cell_type": "code",
   "execution_count": null,
   "metadata": {},
   "outputs": [],
   "source": [
    "import numpy as np\n",
    "import pandas as pd\n",
    "import matplotlib.pyplot as plt\n",
    "\n",
    "from agc_models import Gens\n",
    "from agc_models import sortGens\n",
    "from agc_models import multipleIncreaseDelay\n",
    "from agc_models import curAddress\n",
    "\n",
    "from agc_models import chop_curve\n",
    "from agc_models import settling_time"
   ]
  },
  {
   "cell_type": "markdown",
   "metadata": {},
   "source": [
    "## Universe Parameters (relative fixed)"
   ]
  },
  {
   "cell_type": "code",
   "execution_count": null,
   "metadata": {},
   "outputs": [],
   "source": [
    "prepared_folder_address = 'cur'  # 'D:/OneDrive - University of Leeds/cur'\n",
    "nominal_frequency = 1.0\n",
    "KP = []\n",
    "KI = []\n",
    "PCGTD = []\n",
    "SETTLINGTIME = []"
   ]
  },
  {
   "cell_type": "markdown",
   "metadata": {},
   "source": [
    "## Breaker & Gens"
   ]
  },
  {
   "cell_type": "code",
   "execution_count": null,
   "metadata": {},
   "outputs": [],
   "source": [
    "breaker = 'CCGTG21.01' # (dst file)\n",
    "\n",
    "# gen's code     name            weight         min delay              \n",
    "gen15_2 = Gens('COALG15.02', 8027.401/27580.102, 0.0615)\n",
    "gen16_1 = Gens('CCGTG16.01', 7631.982/27580.102, 0.1220)\n",
    "gen17_2 = Gens('COALG17.02', 2240.000/27580.102, 0.1221)\n",
    "gen23_1 = Gens('CCGTG23.01', 5716.446/27580.102, 0.0609)\n",
    "gen26_1 = Gens('CCGTG26.01', 3964.273/27580.102, 0.0602)\n",
    "\n",
    "liST = []\n",
    "liST.append(gen15_2)\n",
    "liST.append(gen16_1)\n",
    "liST.append(gen17_2)\n",
    "liST.append(gen23_1)\n",
    "liST.append(gen26_1)\n",
    "list_of_gens, weight_of_gens,  mini_list_of_td = sortGens(liST)"
   ]
  },
  {
   "cell_type": "markdown",
   "metadata": {},
   "source": [
    "## Plot and List filtered curve"
   ]
  },
  {
   "cell_type": "code",
   "execution_count": null,
   "metadata": {},
   "outputs": [],
   "source": [
    "# change the size of graph\n",
    "plt.figure(figsize=(20,10))\n",
    "\n",
    "\n",
    "# tuning parameters\n",
    "for kp in np.arange(0.60, 0.61, 0.1):  # 0.1-3.1, 0.1\n",
    "    for ki in np.arange(0.030, 0.031, 0.010): # 0.01-0.08, 0.01\n",
    "        for pcgTd in np.arange(100, 100.1, 50): # 100 (%)\n",
    "            list_of_td = multipleIncreaseDelay(pcgTd, mini_list_of_td)\n",
    "            kp = \"{0:.4f}\".format(round(float(kp),4))\n",
    "            ki = \"{0:.4f}\".format(round(float(ki),4))\n",
    "            \n",
    "            # confirm the address which cur files are saved at\n",
    "            s = curAddress(list_of_gens, list_of_td, prepared_folder_address, breaker, kp, ki)\n",
    "            # print(s)\n",
    "            \n",
    "            \n",
    "            # unchopped data\n",
    "            t_ori = pd.read_fwf(s, header=None, usecols=[0])[0]\n",
    "            f_ori = pd.read_fwf(s, header=None, usecols=[1])[1]\n",
    "            \n",
    "            \n",
    "            # chop curve\n",
    "            t_ori, f_ori, t, f = chop_curve(t_ori, f_ori, chop_value=300)\n",
    "            \n",
    "            \n",
    "            # find settling time\n",
    "            settlingTime = settling_time(t, f, 1/5000, nominal_frequency)\n",
    "            \n",
    " \n",
    "            # curve's label\n",
    "            strLabel = \"kp = \" + str(kp) + \", ki = \" + str(ki) + \", td = \" + str(pcgTd) + \"% mini\" + \", settling time = \" + str(settlingTime) + \" sec\"\n",
    "\n",
    "            \n",
    "            # filter\n",
    "            if max(f) <= 1.004 and settlingTime <= 1200:\n",
    "                \n",
    "                # put data into lists\n",
    "                KP.append(float(kp))\n",
    "                KI.append(float(ki))\n",
    "                PCGTD.append(float(pcgTd))\n",
    "                SETTLINGTIME.append(float(settlingTime))\n",
    "                \n",
    "                # plot\n",
    "                plt.plot(t, f, label=strLabel)\n",
    "                plt.xlabel('time (sec)')\n",
    "                plt.ylabel('frequency (pμ)')\n",
    "                plt.title(\"f-t curve(s)\")\n",
    "                plt.legend()\n",
    "                plt.grid(True)\n",
    "                \n",
    "                # plot one by one (if needed)\n",
    "                # plt.show()"
   ]
  },
  {
   "cell_type": "code",
   "execution_count": null,
   "metadata": {},
   "outputs": [],
   "source": [
    "# print(KP)\n",
    "# print(KI)\n",
    "# print(PCGTD)\n",
    "# print(SETTLINGTIME)"
   ]
  },
  {
   "cell_type": "markdown",
   "metadata": {},
   "source": [
    "### To csv"
   ]
  },
  {
   "cell_type": "code",
   "execution_count": null,
   "metadata": {},
   "outputs": [],
   "source": [
    "df = pd.DataFrame.from_dict({'kp':KP, 'ki':KI, 'pcgTd (%)':PCGTD, 'settling time (sec)':SETTLINGTIME})\n",
    "df.to_csv('cur.csv', header=False, index=False)"
   ]
  },
  {
   "cell_type": "markdown",
   "metadata": {},
   "source": [
    "## 2D"
   ]
  },
  {
   "cell_type": "code",
   "execution_count": null,
   "metadata": {},
   "outputs": [],
   "source": [
    "fig = plt.figure(figsize=(20,10))\n",
    "plt.plot(KP,KI,'ro')\n",
    "plt.axis([0, 3.2, 0, 0.08])\n",
    "plt.xticks(np.arange(0,3.21,0.1))\n",
    "plt.xlabel('kp')\n",
    "plt.ylabel('ki')\n",
    "plt.title(\"Stable Cases in 100% mini delay\")\n",
    "plt.grid(True)"
   ]
  },
  {
   "cell_type": "markdown",
   "metadata": {},
   "source": [
    "## or 3D"
   ]
  },
  {
   "cell_type": "code",
   "execution_count": null,
   "metadata": {},
   "outputs": [],
   "source": [
    "from mpl_toolkits import mplot3d\n",
    "%matplotlib inline"
   ]
  },
  {
   "cell_type": "code",
   "execution_count": null,
   "metadata": {},
   "outputs": [],
   "source": [
    "fig = plt.figure(figsize=(20,15))\n",
    "ax = plt.axes(projection='3d')\n",
    "\n",
    "# Data for three-dimensional scattered points\n",
    "zdata = PCGTD\n",
    "xdata = KP\n",
    "ydata = KI\n",
    "# ax.scatter3D(xdata, ydata, zdata, c=zdata, cmap='Greens')\n",
    "ax.plot_trisurf(xdata, ydata, zdata,\n",
    "                cmap='viridis', edgecolor='none');\n",
    "\n",
    "ax.set_xlabel('kp')\n",
    "ax.set_ylabel('ki')\n",
    "ax.set_zlabel('pcg of mini time delay (%)')\n",
    "ax.set_title(\"f-t curve(s)\")"
   ]
  },
  {
   "cell_type": "code",
   "execution_count": null,
   "metadata": {},
   "outputs": [],
   "source": []
  }
 ],
 "metadata": {
  "kernelspec": {
   "display_name": "Python 3",
   "language": "python",
   "name": "python3"
  },
  "language_info": {
   "codemirror_mode": {
    "name": "ipython",
    "version": 3
   },
   "file_extension": ".py",
   "mimetype": "text/x-python",
   "name": "python",
   "nbconvert_exporter": "python",
   "pygments_lexer": "ipython3",
   "version": "3.7.4"
  }
 },
 "nbformat": 4,
 "nbformat_minor": 4
}

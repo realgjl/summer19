{
 "cells": [
  {
   "cell_type": "markdown",
   "metadata": {},
   "source": [
    "## Load lib"
   ]
  },
  {
   "cell_type": "code",
   "execution_count": null,
   "metadata": {},
   "outputs": [],
   "source": [
    "import numpy as np\n",
    "import pandas as pd\n",
    "import matplotlib.pyplot as plt\n",
    "import pyramses"
   ]
  },
  {
   "cell_type": "markdown",
   "metadata": {},
   "source": [
    "## Load Models"
   ]
  },
  {
   "cell_type": "code",
   "execution_count": null,
   "metadata": {},
   "outputs": [],
   "source": [
    "from agc_models import end_simulation\n",
    "from agc_models import move_file\n",
    "from agc_models import sfc\n",
    "from agc_models import Gens\n",
    "from agc_models import sortGens\n",
    "from agc_models import multipleIncreaseDelay\n",
    "\n",
    "from agc_models import chop_curve\n",
    "from agc_models import settling_time\n",
    "from agc_models import rate_of_change\n",
    "from agc_models import max_rate_of_change"
   ]
  },
  {
   "cell_type": "markdown",
   "metadata": {},
   "source": [
    "## Load a simulator instance"
   ]
  },
  {
   "cell_type": "code",
   "execution_count": null,
   "metadata": {},
   "outputs": [],
   "source": [
    "ram = pyramses.sim()"
   ]
  },
  {
   "cell_type": "markdown",
   "metadata": {},
   "source": [
    "## Load saved test-case & Add more observation(s)"
   ]
  },
  {
   "cell_type": "code",
   "execution_count": null,
   "metadata": {},
   "outputs": [],
   "source": [
    "case = pyramses.cfg('cmd.txt')\n",
    "case.addRunObs('MS CCGTG2.01')  # Monitor, will write real-time (voltage-time or) frequency-time data of bus G2 (GBdynHVDC.dat)\n",
    "monitor = ['CCGTG2.01']"
   ]
  },
  {
   "cell_type": "markdown",
   "metadata": {},
   "source": [
    "## Universe Parameters (relative fixed)"
   ]
  },
  {
   "cell_type": "code",
   "execution_count": null,
   "metadata": {},
   "outputs": [],
   "source": [
    "prepared_folder_address = 'cur' # 'D:/OneDrive - University of Leeds/cur'\n",
    "nominal_frequency = 1.0\n",
    "start_time = 300.0\n",
    "settling_end_time = 1200.0\n",
    "end_time = 1500.0  # (dst file)\n",
    "agcTimeStep = 1.0"
   ]
  },
  {
   "cell_type": "markdown",
   "metadata": {},
   "source": [
    "## Breaker (one of distrubances) & Selected generators (to help fix errors)"
   ]
  },
  {
   "cell_type": "code",
   "execution_count": null,
   "metadata": {},
   "outputs": [],
   "source": [
    "breaker = 'CCGTG21.01' # (dst file)\n",
    "\n",
    "# gen's code     name       weight  mini delay              \n",
    "gen15_2 = Gens('COALG15.02', 0.161, 0.0615)  # 8027.401/27580.102 = 0.291\n",
    "gen16_1 = Gens('CCGTG16.01', 0.226, 0.1220)  # 7631.982/27580.102 = 0.277\n",
    "gen17_2 = Gens('COALG17.02', 0.161, 0.1221)  # 2240.000/27580.102 = 0.081\n",
    "gen23_1 = Gens('CCGTG23.01', 0.226, 0.0609)  # 5716.446/27580.102 = 0.207\n",
    "gen26_1 = Gens('CCGTG26.01', 0.226, 0.0602)  # 3964.273/27580.102 = 0.143\n",
    "liST = []\n",
    "liST.append(gen15_2)\n",
    "liST.append(gen16_1)\n",
    "liST.append(gen17_2)\n",
    "liST.append(gen23_1)\n",
    "liST.append(gen26_1)\n",
    "\n",
    "list_of_gens, weight_of_gens,  mini_list_of_td = sortGens(liST)\n",
    "print(list_of_gens)\n",
    "print(weight_of_gens)\n",
    "print(mini_list_of_td)"
   ]
  },
  {
   "cell_type": "markdown",
   "metadata": {},
   "source": [
    "## trj.csv title"
   ]
  },
  {
   "cell_type": "code",
   "execution_count": null,
   "metadata": {},
   "outputs": [],
   "source": [
    "trj_kp = []\n",
    "trj_ki = []\n",
    "trj_max_15_2 = []\n",
    "trj_max_16_1 = []\n",
    "trj_max_17_2 = []\n",
    "trj_max_23_1 = []\n",
    "trj_max_26_1 = []\n",
    "trj_exceedOrNot = []"
   ]
  },
  {
   "cell_type": "markdown",
   "metadata": {},
   "source": [
    "## cur.csv title"
   ]
  },
  {
   "cell_type": "code",
   "execution_count": null,
   "metadata": {},
   "outputs": [],
   "source": [
    "KP = []\n",
    "KI = []\n",
    "PCGTD = []\n",
    "SETTLINGTIME = []"
   ]
  },
  {
   "cell_type": "markdown",
   "metadata": {},
   "source": [
    "## Test with fixed kp and ki"
   ]
  },
  {
   "cell_type": "code",
   "execution_count": null,
   "metadata": {},
   "outputs": [],
   "source": [
    "# change the size of graph\n",
    "plt.figure(figsize=(20,10))\n",
    "\n",
    "\n",
    "if __name__ == '__main__':\n",
    "    for kp in np.arange(0.10, 3.11, 0.1):  # 0.1-3.1, 0.1\n",
    "        for ki in np.arange(0.010, 0.081, 0.01): # 0.01-0.08, 0.01\n",
    "            for pcgTd in np.arange(100, 250.1, 50): # 100, 150, 200, 250 (%)\n",
    "                list_of_td = multipleIncreaseDelay(pcgTd, mini_list_of_td)\n",
    "                \n",
    "                kp = \"{0:.4f}\".format(round(float(kp),4))\n",
    "                ki = \"{0:.4f}\".format(round(float(ki),4))\n",
    "                print(\"kp = \" + str(kp))\n",
    "                print(\"ki = \" + str(ki))\n",
    "                print(\"deley = \" + str(pcgTd) + \"% of mini\")\n",
    "                print(list_of_td)\n",
    "                \n",
    "                \n",
    "                # run agc\n",
    "                sfc(ram, case, monitor, list_of_gens, weight_of_gens, list_of_td, prepared_folder_address, start_time, end_time, agcTimeStep, breaker, nominal_frequency, kp, ki)\n",
    "                \n",
    "                \n",
    "                # clear td's list\n",
    "                list_of_td = []\n",
    "                print(\"clear list_of_td\\n\")\n",
    "                \n",
    "                \n",
    "                # Embed the frequency/voltage response in the output\n",
    "                ext = pyramses.extractor(case.getTrj())\n",
    "                trj_kp.append(float(kp))\n",
    "                trj_ki.append(float(ki))\n",
    "                max_15_2 = max_rate_of_change(ext.getSync('COALG15.02').P.time, ext.getSync('COALG15.02').P.value, start_time, settling_end_time, agcTimeStep, unit_converter=60)\n",
    "                max_16_1 = max_rate_of_change(ext.getSync('CCGTG16.01').P.time, ext.getSync('CCGTG16.01').P.value, start_time, settling_end_time, agcTimeStep, unit_converter=60)\n",
    "                max_17_2 = max_rate_of_change(ext.getSync('COALG17.02').P.time, ext.getSync('COALG17.02').P.value, start_time, settling_end_time, agcTimeStep, unit_converter=60)\n",
    "                max_23_1 = max_rate_of_change(ext.getSync('CCGTG23.01').P.time, ext.getSync('CCGTG23.01').P.value, start_time, settling_end_time, agcTimeStep, unit_converter=60)\n",
    "                max_26_1 = max_rate_of_change(ext.getSync('CCGTG26.01').P.time, ext.getSync('CCGTG26.01').P.value, start_time, settling_end_time, agcTimeStep, unit_converter=60)\n",
    "\n",
    "\n",
    "                trj_max_15_2.append(max_15_2)\n",
    "                trj_max_16_1.append(max_16_1)\n",
    "                trj_max_17_2.append(max_17_2)\n",
    "                trj_max_23_1.append(max_23_1)\n",
    "                trj_max_26_1.append(max_26_1)\n",
    "                \n",
    "                \n",
    "                if max_15_2 >= 0.05 * 6823.291 or max_16_1 >= 0.10 * 6868.783 or max_17_2 >= 0.05 * 1904.000 or max_23_1 >= 0.10 * 4858.979 or max_26_1 >= 0.10 * 3567.846:\n",
    "                    trj_exceedOrNot.append(\"Exceed\")\n",
    "                else:\n",
    "                    trj_exceedOrNot.append(\"Not Exceed\")\n",
    "                    \n",
    "                    \n",
    "                    # unchopped curve\n",
    "                    t_ori = ext.getSync('CCGTG2.01').S.time\n",
    "                    f_ori = ext.getSync('CCGTG2.01').S.value\n",
    "                    \n",
    "                    \n",
    "                    # chop curve\n",
    "                    t_ori, f_ori, t, f = chop_curve(t_ori, f_ori, chop_value=300)\n",
    "                    \n",
    "                    \n",
    "                    # find settling time\n",
    "                    settlingTime = settling_time(t, f, 1/5000, nominal_frequency)\n",
    "                    \n",
    "                    \n",
    "                    # curve's label\n",
    "                    strLabel = \"kp = \" + str(kp) + \", ki = \" + str(ki) + \", td = \" + str(pcgTd) + \"% mini\" + \", settling time = \" + str(settlingTime) + \" sec\"\n",
    "                    \n",
    "                    \n",
    "                    # filter stable cases\n",
    "                    if max(f) <= 1.004 and settlingTime <= 1200:\n",
    "                        # put data into lists\n",
    "                        KP.append(float(kp))\n",
    "                        KI.append(float(ki))\n",
    "                        PCGTD.append(float(pcgTd))\n",
    "                        SETTLINGTIME.append(float(settlingTime))\n",
    "\n",
    "                        # plot\n",
    "                        plt.plot(t, f, label=strLabel)\n",
    "                        plt.legend()\n",
    "                        plt.xlabel('time (sec)')\n",
    "                        plt.ylabel('frequency (pμ)')\n",
    "                        plt.title(\"f-t curve(s)\")\n",
    "                        plt.grid(True)\n",
    "\n",
    "                        # plot one by one (if needed)\n",
    "                        # plt.show()"
   ]
  },
  {
   "cell_type": "markdown",
   "metadata": {},
   "source": [
    "## Stable cases"
   ]
  },
  {
   "cell_type": "code",
   "execution_count": null,
   "metadata": {},
   "outputs": [],
   "source": [
    "'''\n",
    "fig = plt.figure(figsize=(20,10))\n",
    "plt.plot(KP,KI,'ro')\n",
    "plt.axis([0, 3.2, 0, 0.09])\n",
    "plt.xticks(np.arange(0,3.21,0.1))\n",
    "plt.xlabel('kp')\n",
    "plt.ylabel('ki')\n",
    "plt.title(\"Stable Cases in 100% mini delay\")\n",
    "plt.grid(True)\n",
    "'''"
   ]
  },
  {
   "cell_type": "markdown",
   "metadata": {},
   "source": [
    "## trj.csv"
   ]
  },
  {
   "cell_type": "code",
   "execution_count": null,
   "metadata": {},
   "outputs": [],
   "source": [
    "import numpy as np\n",
    "import pandas as pd\n",
    "import matplotlib.pyplot as plt\n",
    "import pyramses\n",
    "\n",
    "df = pd.DataFrame.from_dict({'kp':trj_kp, 'ki':trj_ki, 'Max power rate of G15.02 (max=341.165MW/min)':trj_max_15_2, \n",
    "                                                       'Max power rate of G16.01 (max=686.878MW/min)':trj_max_16_1, \n",
    "                                                       'Max power rate of G17.02 (max=95.200MW/min)':trj_max_17_2, \n",
    "                                                       'Max power rate of G23.01 (max=485.898MW/min)':trj_max_23_1,\n",
    "                                                       'Max power rate of G26.01 (max=356.785MW/min)':trj_max_26_1,\n",
    "                                                       'Exceed max power rate or not?': trj_exceedOrNot})\n",
    "df.to_csv('trj.csv', header=True, index=False)"
   ]
  },
  {
   "cell_type": "markdown",
   "metadata": {},
   "source": [
    "## cur.csv"
   ]
  },
  {
   "cell_type": "code",
   "execution_count": null,
   "metadata": {},
   "outputs": [],
   "source": [
    "df = pd.DataFrame.from_dict({'kp':KP, 'ki':KI, 'pcgTd (%)':PCGTD, 'settling time (sec)':SETTLINGTIME})\n",
    "df.to_csv('cur.csv', header=True, index=False)"
   ]
  },
  {
   "cell_type": "code",
   "execution_count": null,
   "metadata": {},
   "outputs": [],
   "source": []
  }
 ],
 "metadata": {
  "kernelspec": {
   "display_name": "Python 3",
   "language": "python",
   "name": "python3"
  },
  "language_info": {
   "codemirror_mode": {
    "name": "ipython",
    "version": 3
   },
   "file_extension": ".py",
   "mimetype": "text/x-python",
   "name": "python",
   "nbconvert_exporter": "python",
   "pygments_lexer": "ipython3",
   "version": "3.7.5"
  }
 },
 "nbformat": 4,
 "nbformat_minor": 4
}

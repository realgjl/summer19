{
 "cells": [
  {
   "cell_type": "code",
   "execution_count": 1,
   "metadata": {},
   "outputs": [
    {
     "name": "stdout",
     "output_type": "stream",
     "text": [
      "RAMSESWarning: The file init.trace already exists. It will be overwritten!\n",
      "RAMSESWarning: The file cont.trace already exists. It will be overwritten!\n",
      "RAMSESWarning: The file disc.trace already exists. It will be overwritten!\n",
      "RAMSESWarning: The file cmd.txt already exists. It will be overwritten!\n"
     ]
    },
    {
     "data": {
      "text/plain": [
       "'cmd.txt'"
      ]
     },
     "execution_count": 1,
     "metadata": {},
     "output_type": "execute_result"
    }
   ],
   "source": [
    "import pyramses\n",
    "case = pyramses.cfg()\n",
    "case.addOut('output.trace') # save the simulation output\n",
    "case.addData('GBdyn.dat') # Dynamic data\n",
    "case.addData('GBhvdc.dat') # New HVDC data\n",
    "case.addData('GBvoltrat.dat') # power-flow data\n",
    "case.addData('settings.dat') # solver settings\n",
    "case.addInit('init.trace') # save initialization procedure\n",
    "case.addDst('nothing.dst') # description of disturbance\n",
    "case.addCont('cont.trace') # save continuous trace\n",
    "case.addDisc('disc.trace') # save discrete trace\n",
    "case.addRunObs('BV 22') # observe the voltage magnitude of bus 4044 during simulation\n",
    "case.addRunObs('MS COALG15.02') # observe the voltage magnitude of bus 1041 during simulation\n",
    "case.writeCmdFile('cmd.txt') # Save configuration for future use"
   ]
  },
  {
   "cell_type": "code",
   "execution_count": 2,
   "metadata": {},
   "outputs": [],
   "source": [
    "ram = pyramses.sim()"
   ]
  },
  {
   "cell_type": "code",
   "execution_count": 3,
   "metadata": {},
   "outputs": [
    {
     "data": {
      "text/plain": [
       "0"
      ]
     },
     "execution_count": 3,
     "metadata": {},
     "output_type": "execute_result"
    }
   ],
   "source": [
    "ram.execSim(case)"
   ]
  },
  {
   "cell_type": "code",
   "execution_count": null,
   "metadata": {},
   "outputs": [],
   "source": []
  }
 ],
 "metadata": {
  "kernelspec": {
   "display_name": "Python 3",
   "language": "python",
   "name": "python3"
  },
  "language_info": {
   "codemirror_mode": {
    "name": "ipython",
    "version": 3
   },
   "file_extension": ".py",
   "mimetype": "text/x-python",
   "name": "python",
   "nbconvert_exporter": "python",
   "pygments_lexer": "ipython3",
   "version": "3.7.3"
  }
 },
 "nbformat": 4,
 "nbformat_minor": 2
}

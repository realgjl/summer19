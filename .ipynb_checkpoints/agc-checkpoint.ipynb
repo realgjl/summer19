{
 "cells": [
  {
   "cell_type": "markdown",
   "metadata": {},
   "source": [
    "## Load lib"
   ]
  },
  {
   "cell_type": "code",
   "execution_count": null,
   "metadata": {},
   "outputs": [],
   "source": [
    "import numpy as np\n",
    "import pandas as pd\n",
    "import matplotlib.pyplot as plt\n",
    "import pyramses"
   ]
  },
  {
   "cell_type": "markdown",
   "metadata": {},
   "source": [
    "## Load Models"
   ]
  },
  {
   "cell_type": "code",
   "execution_count": null,
   "metadata": {},
   "outputs": [],
   "source": [
    "from agc_models import end_simulation\n",
    "from agc_models import move_file\n",
    "from agc_models import sfc\n",
    "from agc_models import Gens\n",
    "from agc_models import sortGens\n",
    "from agc_models import multipleIncreaseDelay\n",
    "\n",
    "from agc_models import chop_curve\n",
    "from agc_models import rate_of_change\n",
    "from agc_models import settling_time\n",
    "from agc_models import curve_of_rate_of_change"
   ]
  },
  {
   "cell_type": "markdown",
   "metadata": {},
   "source": [
    "## Load a simulator instance"
   ]
  },
  {
   "cell_type": "code",
   "execution_count": null,
   "metadata": {},
   "outputs": [],
   "source": [
    "ram = pyramses.sim()"
   ]
  },
  {
   "cell_type": "markdown",
   "metadata": {},
   "source": [
    "## Load saved test-case & Add more observation(s)"
   ]
  },
  {
   "cell_type": "code",
   "execution_count": null,
   "metadata": {},
   "outputs": [],
   "source": [
    "case = pyramses.cfg('cmd.txt')\n",
    "case.addRunObs('MS CCGTG2.01')  # Monitor, will write real-time (voltage-time or) frequency-time data of bus G2 (GBdynHVDC.dat)\n",
    "monitor = ['CCGTG2.01']"
   ]
  },
  {
   "cell_type": "markdown",
   "metadata": {},
   "source": [
    "## Universe Parameters. Start: 300sec, Settling before: 1200sec (+900sec = +15min), End: 1500sec; Time step: 1sec."
   ]
  },
  {
   "cell_type": "code",
   "execution_count": null,
   "metadata": {},
   "outputs": [],
   "source": [
    "prepared_folder_address = 'cur'\n",
    "nominal_frequency = 1.0\n",
    "start_time = 150.0\n",
    "settling_end_time = 800.0\n",
    "end_time = 800.0  # (dst file)\n",
    "agcTimeStep = 1.0"
   ]
  },
  {
   "cell_type": "markdown",
   "metadata": {},
   "source": [
    "## Breaker (one of distrubances) & Selected generators (to help fix errors)"
   ]
  },
  {
   "cell_type": "code",
   "execution_count": null,
   "metadata": {},
   "outputs": [],
   "source": [
    "breaker = 'CCGTG11.01' # (dst file)\n",
    "\n",
    "# gen's code     name       weight  mini delay              \n",
    "gen4_2 = Gens('COALG4.02', 0.200, 0.1220)    # 2386.699/17489.086 = 0.136468\n",
    "gen11_2 = Gens('COALG11.02', 0.200, 0.1220)  # 1559.337/17489.086 = 0.089161\n",
    "gen15_2 = Gens('COALG15.02', 0.200, 0.0620)  # 8027.401/17489.086 = 0.458995\n",
    "gen16_2 = Gens('COALG16.02', 0.200, 0.1220)  # 3911.223/17489.086 = 0.223638\n",
    "gen23_2 = Gens('COALG23.02', 0.200, 0.0620)  # 1604.416/17489.086 = 0.091738\n",
    "\n",
    "liST = []\n",
    "liST.append(gen4_2)\n",
    "liST.append(gen11_2)\n",
    "liST.append(gen15_2)\n",
    "liST.append(gen16_2)\n",
    "liST.append(gen23_2)\n",
    "list_of_gens, weight_of_gens,  mini_list_of_td = sortGens(liST)\n",
    "\n",
    "print(list_of_gens)\n",
    "print(weight_of_gens)\n",
    "print(mini_list_of_td)"
   ]
  },
  {
   "cell_type": "markdown",
   "metadata": {},
   "source": [
    "## Test with fixed kp and ki"
   ]
  },
  {
   "cell_type": "code",
   "execution_count": null,
   "metadata": {},
   "outputs": [],
   "source": [
    "if __name__ == '__main__':\n",
    "    kp = 0.31\n",
    "    ki = 0.01\n",
    "    list_of_td = multipleIncreaseDelay(100, mini_list_of_td)  # 100%\n",
    "    \n",
    "    kp = \"{0:.4f}\".format(round(float(kp),4))\n",
    "    ki = \"{0:.4f}\".format(round(float(ki),4))\n",
    "    print(\"kp = \" + str(kp))\n",
    "    print(\"ki = \" + str(ki))\n",
    "    print(list_of_td)\n",
    "\n",
    "    sfc(ram, case, monitor, list_of_gens, weight_of_gens, list_of_td, prepared_folder_address, start_time, end_time, agcTimeStep, breaker, nominal_frequency, kp, ki)"
   ]
  },
  {
   "cell_type": "markdown",
   "metadata": {},
   "source": [
    "## Embed the frequency/voltage response in the output\n",
    "**https://pyramses.paristidou.info/_modules/pyramses/extractor.html#extractor.getSync**"
   ]
  },
  {
   "cell_type": "code",
   "execution_count": null,
   "metadata": {},
   "outputs": [],
   "source": [
    "ext = pyramses.extractor(case.getTrj())"
   ]
  },
  {
   "cell_type": "markdown",
   "metadata": {},
   "source": [
    "## A. Check frequency in the grid via monitor"
   ]
  },
  {
   "cell_type": "code",
   "execution_count": null,
   "metadata": {},
   "outputs": [],
   "source": [
    "t_ori, f_ori, t, f = chop_curve(ext.getSync('CCGTG2.01').S.time, ext.getSync('CCGTG2.01').S.value, chop_value=start_time)\n",
    "realSettlingTime = settling_time(t, f, 1/5000, nominal_frequency)\n",
    "# ext.getSync('CCGTG2.01').S.plot()\n",
    "fig = plt.figure(figsize=(20,10))\n",
    "plt.plot(t, f, label = ext.getSync('CCGTG2.01').S.msg + \": settling time = \" + str(realSettlingTime) + \" sec.\")\n",
    "plt.legend()\n",
    "plt.xlabel('time (s)')\n",
    "plt.ylabel('frequency (pu)')\n",
    "plt.grid(True)"
   ]
  },
  {
   "cell_type": "markdown",
   "metadata": {},
   "source": [
    "## B. Check power & power rate of the five generators (power rate = delta power / delta time, should be around 10% (CCGT) or 5% (COAL) of power capacity per min)"
   ]
  },
  {
   "cell_type": "markdown",
   "metadata": {},
   "source": [
    "### 1. Pnom(G4.02) = 2028.694 MW"
   ]
  },
  {
   "cell_type": "code",
   "execution_count": null,
   "metadata": {},
   "outputs": [],
   "source": [
    "# ext.getSync('COALG4.02').P.plot()\n",
    "fig = plt.figure(figsize=(20,10))\n",
    "plt.plot(ext.getSync('COALG4.02').P.time, ext.getSync('COALG4.02').P.value, label = ext.getSync('COALG4.02').P.msg)\n",
    "plt.legend()\n",
    "plt.xlabel('time (s)')\n",
    "plt.ylabel('power (MW)')\n",
    "plt.grid(True)"
   ]
  },
  {
   "cell_type": "markdown",
   "metadata": {},
   "source": [
    "##### COALG4.02: 5% capacity/min = 101.435 MW/min:"
   ]
  },
  {
   "cell_type": "code",
   "execution_count": null,
   "metadata": {},
   "outputs": [],
   "source": [
    "curve_of_rate_of_change('COALG4.02', ext.getSync('COALG4.02').P.time, ext.getSync('COALG4.02').P.value, start_time, settling_end_time, agcTimeStep, unit_converter=60)"
   ]
  },
  {
   "cell_type": "markdown",
   "metadata": {},
   "source": [
    "### 2. Pnom(G11.02) = 1403.403 MW"
   ]
  },
  {
   "cell_type": "code",
   "execution_count": null,
   "metadata": {},
   "outputs": [],
   "source": [
    "# ext.getSync('COALG11.02').P.plot()\n",
    "fig = plt.figure(figsize=(20,10))\n",
    "plt.plot(ext.getSync('COALG11.02').P.time, ext.getSync('COALG11.02').P.value, label = ext.getSync('COALG11.02').P.msg)\n",
    "plt.legend()\n",
    "plt.xlabel('time (s)')\n",
    "plt.ylabel('power (MW)')\n",
    "plt.grid(True)"
   ]
  },
  {
   "cell_type": "markdown",
   "metadata": {},
   "source": [
    "##### COALG11.02: 5% capacity/min = 70.170 MW/min"
   ]
  },
  {
   "cell_type": "code",
   "execution_count": null,
   "metadata": {},
   "outputs": [],
   "source": [
    "curve_of_rate_of_change('COALG11.02', ext.getSync('COALG11.02').P.time, ext.getSync('COALG11.02').P.value, start_time, settling_end_time, agcTimeStep, unit_converter=60)"
   ]
  },
  {
   "cell_type": "markdown",
   "metadata": {},
   "source": [
    "### 3. Pnom(G15.02) = 6823.291 MW"
   ]
  },
  {
   "cell_type": "code",
   "execution_count": null,
   "metadata": {},
   "outputs": [],
   "source": [
    "# ext.getSync('COALG15.02').P.plot()\n",
    "fig = plt.figure(figsize=(20,10))\n",
    "plt.plot(ext.getSync('COALG15.02').P.time, ext.getSync('COALG15.02').P.value, label = ext.getSync('COALG15.02').P.msg)\n",
    "plt.legend()\n",
    "plt.xlabel('time (s)')\n",
    "plt.ylabel('power (MW)')\n",
    "plt.grid(True)"
   ]
  },
  {
   "cell_type": "markdown",
   "metadata": {},
   "source": [
    "##### COALG15.02: 5% capacity/min = 341.165 MW/min"
   ]
  },
  {
   "cell_type": "code",
   "execution_count": null,
   "metadata": {},
   "outputs": [],
   "source": [
    "curve_of_rate_of_change('COALG15.02', ext.getSync('COALG15.02').P.time, ext.getSync('COALG15.02').P.value, start_time, settling_end_time, agcTimeStep, unit_converter=60)"
   ]
  },
  {
   "cell_type": "markdown",
   "metadata": {},
   "source": [
    "### 4. Pnom(G16.02) = 3520.101 MW"
   ]
  },
  {
   "cell_type": "code",
   "execution_count": null,
   "metadata": {},
   "outputs": [],
   "source": [
    "# ext.getSync('COALG16.02').P.plot()\n",
    "fig = plt.figure(figsize=(20,10))\n",
    "plt.plot(ext.getSync('COALG16.02').P.time, ext.getSync('COALG16.02').P.value, label = ext.getSync('COALG16.02').P.msg)\n",
    "plt.legend()\n",
    "plt.xlabel('time (s)')\n",
    "plt.ylabel('power (MW)')\n",
    "plt.grid(True)"
   ]
  },
  {
   "cell_type": "markdown",
   "metadata": {},
   "source": [
    "##### COALG16.02: 5% capacity/min = 176.005 MW/min"
   ]
  },
  {
   "cell_type": "code",
   "execution_count": null,
   "metadata": {},
   "outputs": [],
   "source": [
    "curve_of_rate_of_change('COALG16.02', ext.getSync('COALG16.02').P.time, ext.getSync('COALG16.02').P.value, start_time, settling_end_time, agcTimeStep, unit_converter=60)"
   ]
  },
  {
   "cell_type": "markdown",
   "metadata": {},
   "source": [
    "### 5. Pnom(G23.02) = 1363.753 MW"
   ]
  },
  {
   "cell_type": "code",
   "execution_count": null,
   "metadata": {},
   "outputs": [],
   "source": [
    "# ext.getSync('COALG23.02').P.plot()\n",
    "fig = plt.figure(figsize=(20,10))\n",
    "plt.plot(ext.getSync('COALG23.02').P.time, ext.getSync('COALG23.02').P.value, label = ext.getSync('COALG23.02').P.msg)\n",
    "plt.legend()\n",
    "plt.xlabel('time (s)')\n",
    "plt.ylabel('power (MW)')\n",
    "plt.grid(True)"
   ]
  },
  {
   "cell_type": "markdown",
   "metadata": {},
   "source": [
    "##### COALG23.02: 5% capacity/min = 68.188 MW/min"
   ]
  },
  {
   "cell_type": "code",
   "execution_count": null,
   "metadata": {},
   "outputs": [],
   "source": [
    "curve_of_rate_of_change('COALG23.02', ext.getSync('COALG23.02').P.time, ext.getSync('COALG23.02').P.value, start_time, settling_end_time, agcTimeStep, unit_converter=60)"
   ]
  },
  {
   "cell_type": "code",
   "execution_count": null,
   "metadata": {},
   "outputs": [],
   "source": []
  },
  {
   "cell_type": "code",
   "execution_count": null,
   "metadata": {},
   "outputs": [],
   "source": []
  }
 ],
 "metadata": {
  "kernelspec": {
   "display_name": "Python 3",
   "language": "python",
   "name": "python3"
  },
  "language_info": {
   "codemirror_mode": {
    "name": "ipython",
    "version": 3
   },
   "file_extension": ".py",
   "mimetype": "text/x-python",
   "name": "python",
   "nbconvert_exporter": "python",
   "pygments_lexer": "ipython3",
   "version": "3.7.4"
  }
 },
 "nbformat": 4,
 "nbformat_minor": 4
}
